{
 "cells": [
  {
   "cell_type": "markdown",
   "metadata": {},
   "source": [
    "# Beginner Level Python Project - Daniel Weatherspoon\n",
    "### Finding cost to cover a floor that is Width x Height with tile\n",
    " "
   ]
  },
  {
   "cell_type": "code",
   "execution_count": 1,
   "metadata": {},
   "outputs": [],
   "source": [
    "# This can calculate the cost of the tile that is needed to cover a floor plan that is W x H. The cost is per square unit in dollars, and would be input by the user.\n",
    "def tile_cost(width, height, cost):\n",
    "    area = width * height\n",
    "    total_cost = area * cost\n",
    "    return total_cost"
   ]
  },
  {
   "cell_type": "markdown",
   "metadata": {},
   "source": [
    "##### Example \n",
    "##### Master bathroom of a luxurious house is  8 x 11, the owner wants very nice Slab Porcelain Ceramic tiling, which is around $100 per square foot."
   ]
  },
  {
   "cell_type": "code",
   "execution_count": 2,
   "metadata": {},
   "outputs": [
    {
     "name": "stdout",
     "output_type": "stream",
     "text": [
      "The price of tile for this bathroom is $ 8800\n"
     ]
    }
   ],
   "source": [
    "SPC = tile_cost(8, 11, 100)\n",
    "print(\"The price of tile for this bathroom is $\",SPC)"
   ]
  },
  {
   "cell_type": "code",
   "execution_count": 7,
   "metadata": {},
   "outputs": [
    {
     "data": {
      "text/plain": [
       "\"\\nimport matplotlib.pyplot as plt\\n\\ndef plot_floor_plan(width, height):\\n    # Create a figure and axis\\n    fig, ax = plt.subplots()\\n\\n    # Plot the floor plan rectangle\\n    ax.plot([0, width, width, 0, 0], [0, 0, height, height, 0], 'k-')\\n\\n    # Set labels and title\\n    ax.set_xlabel('Width (units)')\\n    ax.set_ylabel('Height (units)')\\n    ax.set_title('Floor Plan')\\n\\n    plt.grid(True)\\n    plt.show()\\n\\n# Call the function with the dimensions of the floor plan\\nplot_floor_plan(8, 11)\\n\""
      ]
     },
     "execution_count": 7,
     "metadata": {},
     "output_type": "execute_result"
    }
   ],
   "source": [
    "#Visualize the floor plan\n",
    "'''\n",
    "import matplotlib.pyplot as plt\n",
    "\n",
    "def plot_floor_plan(width, height):\n",
    "    # Create a figure and axis\n",
    "    fig, ax = plt.subplots()\n",
    "\n",
    "    # Plot the floor plan rectangle\n",
    "    ax.plot([0, width, width, 0, 0], [0, 0, height, height, 0], 'k-')\n",
    "\n",
    "    # Set labels and title\n",
    "    ax.set_xlabel('Width (units)')\n",
    "    ax.set_ylabel('Height (units)')\n",
    "    ax.set_title('Floor Plan')\n",
    "\n",
    "    plt.grid(True)\n",
    "    plt.show()\n",
    "\n",
    "# Call the function with the dimensions of the floor plan\n",
    "plot_floor_plan(8, 11)\n",
    "'''"
   ]
  }
 ],
 "metadata": {
  "kernelspec": {
   "display_name": "Python 3",
   "language": "python",
   "name": "python3"
  },
  "language_info": {
   "codemirror_mode": {
    "name": "ipython",
    "version": 3
   },
   "file_extension": ".py",
   "mimetype": "text/x-python",
   "name": "python",
   "nbconvert_exporter": "python",
   "pygments_lexer": "ipython3",
   "version": "3.10.4"
  }
 },
 "nbformat": 4,
 "nbformat_minor": 2
}
